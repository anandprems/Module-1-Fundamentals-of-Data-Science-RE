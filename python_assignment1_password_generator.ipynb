{
  "nbformat": 4,
  "nbformat_minor": 0,
  "metadata": {
    "colab": {
      "provenance": []
    },
    "kernelspec": {
      "name": "python3",
      "display_name": "Python 3"
    },
    "language_info": {
      "name": "python"
    }
  },
  "cells": [
    {
      "cell_type": "markdown",
      "source": [
        "Python Assignment 01: Thilagan, a content creator, actively posts content and short videos on social media like Facebook, Instagram, and Twitter. Along with his friend Vishwa, they had a conflict and separated as the days went on. Both use the same account, as each has some specific talent; Thilagan is decisive in making videos, whereas Vishwa is strong in coding. The problem is they both know the password for all the social media they use. Thilagan thought of using all those social media, so he changed the password along with his new friend Vithun, a professional hacker. Vishwa somehow got the password, but he needs to be very careful in creating a password to lock all social media; as Vithun knows hacking, he will crack it easily. So, write a python program to generate a password by using a random module with a password length of about 15, in which he should use 52 alphabets (both small and capital), numbers (0-9), and at least ten different symbols of your choice.\n",
        "\n",
        "Note: The password should be shuffled enough with all criteria. In a total length of 15, a minimum of 4 values should be in all requirements. The input function should be kept empty."
      ],
      "metadata": {
        "id": "WHfSBsk6uQ-F"
      }
    },
    {
      "cell_type": "code",
      "execution_count": null,
      "metadata": {
        "colab": {
          "base_uri": "https://localhost:8080/"
        },
        "id": "5K8PeJzUQDuu",
        "outputId": "7af461e2-f76d-4504-987e-c5b46796bece"
      },
      "outputs": [
        {
          "output_type": "stream",
          "name": "stdout",
          "text": [
            "Generated password: (hai9*eE6imuH?!\n"
          ]
        }
      ],
      "source": [
        "import random\n",
        "\n",
        "# Define the character sets\n",
        "alphabets = 'abcdefghijklmnopqrstuvwxyzABCDEFGHIJKLMNOPQRSTUVWXYZ'\n",
        "numbers = '0123456789'\n",
        "symbols = '!@#$%^&*()-_=+[]{};:,.<>?'\n",
        "\n",
        "# Generate password components\n",
        "password_alphabets = random.sample(alphabets, 2)\n",
        "password_numbers = random.sample(numbers, 1)\n",
        "password_symbols = random.sample(symbols, 1)\n",
        "\n",
        "# Generate remaining password characters\n",
        "remaining_length = 15 - len(password_alphabets) - len(password_numbers) - len(password_symbols)\n",
        "password_others = random.sample(alphabets + numbers + symbols, remaining_length)\n",
        "\n",
        "# Combine all password components and shuffle\n",
        "password = password_alphabets + password_numbers + password_symbols + password_others\n",
        "random.shuffle(password)\n",
        "\n",
        "# Convert the password list to a string\n",
        "password = ''.join(password)\n",
        "\n",
        "# Print the generated password\n",
        "print(\"Generated password:\", password)\n"
      ]
    },
    {
      "cell_type": "code",
      "source": [
        "password_alphabets"
      ],
      "metadata": {
        "id": "Tsaf25VWQULq",
        "colab": {
          "base_uri": "https://localhost:8080/"
        },
        "outputId": "b1f0368e-cfe0-40d6-d939-ae46b29bbf0f"
      },
      "execution_count": null,
      "outputs": [
        {
          "output_type": "execute_result",
          "data": {
            "text/plain": [
              "['o', 'R']"
            ]
          },
          "metadata": {},
          "execution_count": 5
        }
      ]
    },
    {
      "cell_type": "code",
      "source": [
        "password_numbers"
      ],
      "metadata": {
        "colab": {
          "base_uri": "https://localhost:8080/"
        },
        "id": "iAd4hWItea7f",
        "outputId": "76e16209-fab0-4012-e305-41ce6f0e9e23"
      },
      "execution_count": null,
      "outputs": [
        {
          "output_type": "execute_result",
          "data": {
            "text/plain": [
              "['8']"
            ]
          },
          "metadata": {},
          "execution_count": 6
        }
      ]
    },
    {
      "cell_type": "code",
      "source": [
        "password_symbols"
      ],
      "metadata": {
        "colab": {
          "base_uri": "https://localhost:8080/"
        },
        "id": "5zZoEx2xeecv",
        "outputId": "fe3bc021-c4ff-4786-c8fe-3f06600ec1c1"
      },
      "execution_count": null,
      "outputs": [
        {
          "output_type": "execute_result",
          "data": {
            "text/plain": [
              "[',']"
            ]
          },
          "metadata": {},
          "execution_count": 7
        }
      ]
    },
    {
      "cell_type": "code",
      "source": [],
      "metadata": {
        "id": "16_pCmVpemKz"
      },
      "execution_count": null,
      "outputs": []
    }
  ]
}